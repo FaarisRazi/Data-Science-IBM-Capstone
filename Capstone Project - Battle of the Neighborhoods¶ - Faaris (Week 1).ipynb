{
 "cells": [
  {
   "cell_type": "markdown",
   "metadata": {},
   "source": [
    "# Capstone Project - Battle of the Neighborhoods   \n",
    "### _IBM Applied Data Science Capstone_\n"
   ]
  },
  {
   "cell_type": "markdown",
   "metadata": {},
   "source": [
    "## Table of contents\n",
    "* [Introduction - Business Problem](#intro)\n",
    "* [Dataset](#data)   \n",
    "\n",
    "\n",
    "(Only presenting Intro. & Dataset at the moment for Week 1)"
   ]
  },
  {
   "cell_type": "markdown",
   "metadata": {},
   "source": [
    "## Introduction - Business Problem <a name=\"intro\"></a>"
   ]
  },
  {
   "cell_type": "markdown",
   "metadata": {},
   "source": [
    "**Winnipeg**, a city located in the heart of Canada - Manitoba, will be the focus of this project as we will explore through this 'cool' city for the right location of setting up a restaurant. The findings in this project would be an ideal suit for stakeholders interested in opening a **Lebanese restaurant**.\n",
    "\n",
    "A nice grilled kebob shawarma goes well with the cold eh? Well a nice location makes the experience better. So we are interested in a couple of location categories, for starters we would like to **setup near the city's hub**. An important factor would be to look at **areas with good levels of personal safety** (low crime activity). Watching out for competition too, we would be interested in places with **less restaurants or having no similar Middle Eastern restaurant** close by. And also being close to **food markets** would make a timely regulation of fresh food items for restaurant service. \n",
    "\n",
    "Buckle up for this Data-Science journey as we explore through Neighborhoods in the Peg. There will be thorough analysis presented along the way to explain the pros & cons in setting up in certain locations, which would give stakeholders a good idea of possible locations to setup in."
   ]
  },
  {
   "cell_type": "markdown",
   "metadata": {},
   "source": [
    "## Dataset <a name=\"intro\"></a>"
   ]
  },
  {
   "cell_type": "markdown",
   "metadata": {},
   "source": [
    "Here's a list of datasets we will be using for our analysis:\n",
    "* Winnipeg Communties described by varying crime levels.\n",
    "* Number of restaurants in a neighborhood, with a focus on Middle Eastern restaurants.\n",
    "* Number of food markets in a Neighborhood.\n",
    "\n",
    "We would go with the above criteria with the focus on communities and neighborhoods close to the City's hub. And the sources we will go to to collect the following datasets:\n",
    "* Personal safety per Communities data from the following mypeg's open data (https://www.mypeg.ca/indicator/personal-safety/)\n",
    "* Geospatial data provided by City of Winnipeg Open Data Portal (https://data.winnipeg.ca/), and geocoding with arcGIS will be used in identifying Communities and Neighborhoods in Winnipeg lat-long wise. \n",
    "* Venues with restaurants, their types and food markets in neighborhoods will be obtained using Foursquare API"
   ]
  },
  {
   "cell_type": "code",
   "execution_count": null,
   "metadata": {},
   "outputs": [],
   "source": []
  },
  {
   "cell_type": "code",
   "execution_count": null,
   "metadata": {},
   "outputs": [],
   "source": []
  }
 ],
 "metadata": {
  "kernelspec": {
   "display_name": "Python 3",
   "language": "python",
   "name": "python3"
  },
  "language_info": {
   "codemirror_mode": {
    "name": "ipython",
    "version": 3
   },
   "file_extension": ".py",
   "mimetype": "text/x-python",
   "name": "python",
   "nbconvert_exporter": "python",
   "pygments_lexer": "ipython3",
   "version": "3.7.3"
  }
 },
 "nbformat": 4,
 "nbformat_minor": 2
}
